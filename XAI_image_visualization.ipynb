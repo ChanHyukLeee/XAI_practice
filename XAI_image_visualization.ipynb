{
  "nbformat": 4,
  "nbformat_minor": 0,
  "metadata": {
    "colab": {
      "name": "XAI_6.ipynb의 사본",
      "provenance": [],
      "collapsed_sections": []
    },
    "kernelspec": {
      "name": "python3",
      "display_name": "Python 3"
    }
  },
  "cells": [
    {
      "cell_type": "code",
      "metadata": {
        "id": "EoPwJxdjTQnE"
      },
      "source": [
        "# 예제 6.1 신경망 학습을 구현하는 데 필요한 라이브러리 선언\n",
        "\n",
        "import numpy as np\n",
        "import matplotlib.pyplot as plt\n",
        "%matplotlib inline\n",
        "\n",
        "\n",
        "import tensorflow as tf\n",
        "from tensorflow import keras\n",
        "from tensorflow.keras import layers, datasets, models\n",
        "(train_images, train_labels), (test_images, test_labels) = datasets.mnist.load_data()"
      ],
      "execution_count": 8,
      "outputs": []
    },
    {
      "cell_type": "code",
      "metadata": {
        "id": "weh4OXQkXnj9"
      },
      "source": [
        "train_images, test_images = train_images / 255.0, test_images / 255.0"
      ],
      "execution_count": 20,
      "outputs": []
    },
    {
      "cell_type": "code",
      "metadata": {
        "colab": {
          "base_uri": "https://localhost:8080/"
        },
        "id": "05eQ-ChiBfY6",
        "outputId": "7fa158f9-8905-4143-ea65-08f3aca77683"
      },
      "source": [
        "len(test_images)"
      ],
      "execution_count": 87,
      "outputs": [
        {
          "output_type": "execute_result",
          "data": {
            "text/plain": [
              "10000"
            ]
          },
          "metadata": {},
          "execution_count": 87
        }
      ]
    },
    {
      "cell_type": "code",
      "metadata": {
        "id": "YdbUkDU0YE2_",
        "colab": {
          "base_uri": "https://localhost:8080/"
        },
        "outputId": "8bb0d3cd-67ed-4d25-9d19-f60e5f5e4029"
      },
      "source": [
        "# 예제 6.3 합성곱 신경망 구축하기\n",
        "\n",
        "model = models.Sequential()\n",
        "model.add(layers.Conv2D(32, (3, 3), activation='relu', input_shape=(28, 28, 1)))\n",
        "model.add(layers.MaxPooling2D((2, 2)))\n",
        "model.add(layers.Conv2D(64, (3, 3), activation='relu'))\n",
        "model.add(layers.MaxPooling2D((2, 2)))\n",
        "model.add(layers.Conv2D(64, (3, 3), activation='relu'))\n",
        "model.add(layers.Flatten())\n",
        "model.add(layers.Dense(64, activation='relu'))\n",
        "model.add(layers.Dense(10, activation='softmax'))\n",
        "model.summary()"
      ],
      "execution_count": 47,
      "outputs": [
        {
          "output_type": "stream",
          "name": "stdout",
          "text": [
            "Model: \"sequential_3\"\n",
            "_________________________________________________________________\n",
            "Layer (type)                 Output Shape              Param #   \n",
            "=================================================================\n",
            "conv2d_9 (Conv2D)            (None, 26, 26, 32)        320       \n",
            "_________________________________________________________________\n",
            "max_pooling2d_6 (MaxPooling2 (None, 13, 13, 32)        0         \n",
            "_________________________________________________________________\n",
            "conv2d_10 (Conv2D)           (None, 11, 11, 64)        18496     \n",
            "_________________________________________________________________\n",
            "max_pooling2d_7 (MaxPooling2 (None, 5, 5, 64)          0         \n",
            "_________________________________________________________________\n",
            "conv2d_11 (Conv2D)           (None, 3, 3, 64)          36928     \n",
            "_________________________________________________________________\n",
            "flatten_2 (Flatten)          (None, 576)               0         \n",
            "_________________________________________________________________\n",
            "dense_4 (Dense)              (None, 64)                36928     \n",
            "_________________________________________________________________\n",
            "dense_5 (Dense)              (None, 10)                650       \n",
            "=================================================================\n",
            "Total params: 93,322\n",
            "Trainable params: 93,322\n",
            "Non-trainable params: 0\n",
            "_________________________________________________________________\n"
          ]
        }
      ]
    },
    {
      "cell_type": "code",
      "metadata": {
        "colab": {
          "base_uri": "https://localhost:8080/"
        },
        "id": "1eN2biJ5uQ1B",
        "outputId": "8b565898-fdad-4d86-e056-3fc2516aa87b"
      },
      "source": [
        "model.compile(optimizer='adam',\n",
        "              loss='sparse_categorical_crossentropy',\n",
        "              metrics=['accuracy'])\n",
        "\n",
        "model.fit(train_images, train_labels, epochs=5)"
      ],
      "execution_count": 22,
      "outputs": [
        {
          "output_type": "stream",
          "name": "stdout",
          "text": [
            "Epoch 1/5\n",
            "1875/1875 [==============================] - 56s 30ms/step - loss: 0.6253 - accuracy: 0.7925\n",
            "Epoch 2/5\n",
            "1875/1875 [==============================] - 56s 30ms/step - loss: 0.1988 - accuracy: 0.9384\n",
            "Epoch 3/5\n",
            "1875/1875 [==============================] - 55s 29ms/step - loss: 0.1252 - accuracy: 0.9613\n",
            "Epoch 4/5\n",
            "1875/1875 [==============================] - 56s 30ms/step - loss: 0.0958 - accuracy: 0.9712\n",
            "Epoch 5/5\n",
            "1875/1875 [==============================] - 56s 30ms/step - loss: 0.0776 - accuracy: 0.9759\n"
          ]
        },
        {
          "output_type": "execute_result",
          "data": {
            "text/plain": [
              "<keras.callbacks.History at 0x7f22cbcb9050>"
            ]
          },
          "metadata": {},
          "execution_count": 22
        }
      ]
    },
    {
      "cell_type": "code",
      "metadata": {
        "colab": {
          "base_uri": "https://localhost:8080/"
        },
        "id": "yEqmPUv9uU81",
        "outputId": "c41d2038-b300-4f96-f37c-91d76575ed37"
      },
      "source": [
        "test_loss, test_acc = model.evaluate(test_images,  test_labels, verbose=2)"
      ],
      "execution_count": 23,
      "outputs": [
        {
          "output_type": "stream",
          "name": "stdout",
          "text": [
            "313/313 - 3s - loss: 0.0719 - accuracy: 0.9775\n"
          ]
        }
      ]
    },
    {
      "cell_type": "code",
      "metadata": {
        "colab": {
          "base_uri": "https://localhost:8080/"
        },
        "id": "pWsqh3tguV44",
        "outputId": "a55526af-8521-4bdf-ead9-3b64e43c6942"
      },
      "source": [
        "print(test_acc)"
      ],
      "execution_count": 24,
      "outputs": [
        {
          "output_type": "stream",
          "name": "stdout",
          "text": [
            "0.9775000214576721\n"
          ]
        }
      ]
    },
    {
      "cell_type": "code",
      "metadata": {
        "colab": {
          "base_uri": "https://localhost:8080/",
          "height": 265
        },
        "id": "FsUc4Ak8vbbg",
        "outputId": "d3542b51-bebf-4b50-8289-51056808d432"
      },
      "source": [
        "# 이미지 시각화\n",
        "x = test_images[0].reshape([28,28])\n",
        "plt.imshow(x, cmap = 'gray')\n",
        "plt.show()"
      ],
      "execution_count": 31,
      "outputs": [
        {
          "output_type": "display_data",
          "data": {
            "image/png": "[encoded data removed]",
            "text/plain": [
              "<Figure size 432x288 with 1 Axes>"
            ]
          },
          "metadata": {
            "needs_background": "light"
          }
        }
      ]
    },
    {
      "cell_type": "code",
      "metadata": {
        "id": "ZO_1gajkaAEi",
        "colab": {
          "base_uri": "https://localhost:8080/"
        },
        "outputId": "c1c1e7ce-3e47-49dc-87d0-871ebd3d4d15"
      },
      "source": [
        "# 예제 6.10 합성곱 신경망이 0번째 손글씨 이미지를 예측하는 코드\n",
        "\n",
        "predictions = model.predict(test_images)\n",
        "predictions[0]\n",
        "np.argmax(predictions[0])"
      ],
      "execution_count": 32,
      "outputs": [
        {
          "output_type": "execute_result",
          "data": {
            "text/plain": [
              "7"
            ]
          },
          "metadata": {},
          "execution_count": 32
        }
      ]
    },
    {
      "cell_type": "code",
      "metadata": {
        "id": "TgDgI1oWaLyc",
        "colab": {
          "base_uri": "https://localhost:8080/"
        },
        "outputId": "1a628ab5-63cf-497e-fd13-edff5dc543db"
      },
      "source": [
        "# 예제 6.11 합성곱 신경망이 예측한 데이터 라벨과 실제 데이터 라벨을 비교하는 코드\n",
        "print(test_labels[0])\n",
        "print(np.argmax(predictions[0]))\n",
        "print(np.argmax(predictions[0]) == test_labels[0])"
      ],
      "execution_count": 35,
      "outputs": [
        {
          "output_type": "stream",
          "name": "stdout",
          "text": [
            "7\n",
            "7\n",
            "True\n"
          ]
        }
      ]
    },
    {
      "cell_type": "code",
      "metadata": {
        "id": "SF9hTPTjaU4e",
        "colab": {
          "base_uri": "https://localhost:8080/",
          "height": 265
        },
        "outputId": "9a1e9670-8b6f-449a-f361-f12ac9dcc59c"
      },
      "source": [
        "# 예제 6.12 테스트 데이터 924번을 시각화하는 코드\n",
        "\n",
        "y = test_images[924].reshape([28,28])\n",
        "plt.imshow(y, cmap = 'gray')\n",
        "plt.show()"
      ],
      "execution_count": 37,
      "outputs": [
        {
          "output_type": "display_data",
          "data": {
            "image/png": "[encoded data removed]",
            "text/plain": [
              "<Figure size 432x288 with 1 Axes>"
            ]
          },
          "metadata": {
            "needs_background": "light"
          }
        }
      ]
    },
    {
      "cell_type": "code",
      "metadata": {
        "id": "bxeQHa2dazIG",
        "colab": {
          "base_uri": "https://localhost:8080/"
        },
        "outputId": "ab2e17bd-5261-4db1-f77c-1f02617686d0"
      },
      "source": [
        "# 예제 6.11을 924번에 대해 실행한 결과\n",
        "\n",
        "print(test_labels[924])\n",
        "print(np.argmax(predictions[924]))\n",
        "print(np.argmax(predictions[924]) == test_labels[924])\n",
        "#책에는 다르게 나오는데 이 모델에선 같다고 나오네요.... "
      ],
      "execution_count": 38,
      "outputs": [
        {
          "output_type": "stream",
          "name": "stdout",
          "text": [
            "2\n",
            "2\n",
            "True\n"
          ]
        }
      ]
    },
    {
      "cell_type": "code",
      "metadata": {
        "id": "-DbheqwyA2PH"
      },
      "source": [
        "for i in range(10000):\n",
        "    if((np.argmax(predictions[i] == test_labels[i])) == 1):\n",
        "        print(i)\n",
        "# 혹시 이상하다면 알려주세요, 안나오네요.."
      ],
      "execution_count": 93,
      "outputs": []
    },
    {
      "cell_type": "code",
      "metadata": {
        "colab": {
          "base_uri": "https://localhost:8080/"
        },
        "id": "0ilXIRnY18hz",
        "outputId": "3cbf9a2f-b7a9-48bc-e6c0-a6716bcd17e4"
      },
      "source": [
        "for i in range(len(model.layers)):\n",
        "\tlayer = model.layers[i]\n",
        "\t# check for convolutional layer\n",
        "\tif 'conv' not in layer.name:\n",
        "\t\tcontinue\n",
        "\t# summarize output shape\n",
        "\tprint(i, layer.name, layer.output.shape)"
      ],
      "execution_count": 48,
      "outputs": [
        {
          "output_type": "stream",
          "name": "stdout",
          "text": [
            "0 conv2d_9 (None, 26, 26, 32)\n",
            "2 conv2d_10 (None, 11, 11, 64)\n",
            "4 conv2d_11 (None, 3, 3, 64)\n"
          ]
        }
      ]
    },
    {
      "cell_type": "code",
      "metadata": {
        "colab": {
          "base_uri": "https://localhost:8080/"
        },
        "id": "PtKWQ5oK4d7F",
        "outputId": "4f2f57bd-e3b1-4146-c2cf-28d4306b4d76"
      },
      "source": [
        "layer_outputs = [layer.output for layer in model.layers]\n",
        "layer_outputs"
      ],
      "execution_count": 50,
      "outputs": [
        {
          "output_type": "execute_result",
          "data": {
            "text/plain": [
              "[<KerasTensor: shape=(None, 26, 26, 32) dtype=float32 (created by layer 'conv2d_9')>,\n",
              " <KerasTensor: shape=(None, 13, 13, 32) dtype=float32 (created by layer 'max_pooling2d_6')>,\n",
              " <KerasTensor: shape=(None, 11, 11, 64) dtype=float32 (created by layer 'conv2d_10')>,\n",
              " <KerasTensor: shape=(None, 5, 5, 64) dtype=float32 (created by layer 'max_pooling2d_7')>,\n",
              " <KerasTensor: shape=(None, 3, 3, 64) dtype=float32 (created by layer 'conv2d_11')>,\n",
              " <KerasTensor: shape=(None, 576) dtype=float32 (created by layer 'flatten_2')>,\n",
              " <KerasTensor: shape=(None, 64) dtype=float32 (created by layer 'dense_4')>,\n",
              " <KerasTensor: shape=(None, 10) dtype=float32 (created by layer 'dense_5')>]"
            ]
          },
          "metadata": {},
          "execution_count": 50
        }
      ]
    },
    {
      "cell_type": "code",
      "metadata": {
        "colab": {
          "base_uri": "https://localhost:8080/"
        },
        "id": "iSNcxpSP2Wny",
        "outputId": "890bc5cd-7e58-4355-e5b2-a7d6a62f15e4"
      },
      "source": [
        "ixs = [0,2,4]\n",
        "outputs = [model.layers[i].output for i in ixs]\n",
        "outputs"
      ],
      "execution_count": 76,
      "outputs": [
        {
          "output_type": "execute_result",
          "data": {
            "text/plain": [
              "[<KerasTensor: shape=(None, 26, 26, 32) dtype=float32 (created by layer 'conv2d_9')>,\n",
              " <KerasTensor: shape=(None, 11, 11, 64) dtype=float32 (created by layer 'conv2d_10')>,\n",
              " <KerasTensor: shape=(None, 3, 3, 64) dtype=float32 (created by layer 'conv2d_11')>]"
            ]
          },
          "metadata": {},
          "execution_count": 76
        }
      ]
    },
    {
      "cell_type": "code",
      "metadata": {
        "colab": {
          "base_uri": "https://localhost:8080/"
        },
        "id": "4-qVfBXN9Dqv",
        "outputId": "d53f3b25-9804-494d-9303-46ceef394051"
      },
      "source": [
        "model.inputs"
      ],
      "execution_count": 77,
      "outputs": [
        {
          "output_type": "execute_result",
          "data": {
            "text/plain": [
              "[<KerasTensor: shape=(None, 28, 28, 1) dtype=float32 (created by layer 'conv2d_9_input')>]"
            ]
          },
          "metadata": {},
          "execution_count": 77
        }
      ]
    },
    {
      "cell_type": "code",
      "metadata": {
        "id": "lJtFLz3h4sVD"
      },
      "source": [
        "# feature_map_model = models.Model(input=model.inputs, output=model.layers[0].output)\n",
        "feature_map_model = models.Model(inputs=model.inputs, outputs=outputs)"
      ],
      "execution_count": 64,
      "outputs": []
    },
    {
      "cell_type": "code",
      "metadata": {
        "colab": {
          "base_uri": "https://localhost:8080/"
        },
        "id": "eXbU1FVM5s4c",
        "outputId": "b6270f4b-8537-4fd9-bfcf-e4e4505cf46a"
      },
      "source": [
        "test_images[924].shape"
      ],
      "execution_count": 66,
      "outputs": [
        {
          "output_type": "execute_result",
          "data": {
            "text/plain": [
              "(28, 28, 1)"
            ]
          },
          "metadata": {},
          "execution_count": 66
        }
      ]
    },
    {
      "cell_type": "code",
      "metadata": {
        "colab": {
          "base_uri": "https://localhost:8080/"
        },
        "id": "4TH1JHYF7a61",
        "outputId": "396332e8-cd0b-4166-dd0a-abdafe0fc738"
      },
      "source": [
        "feature_map_model.summary()"
      ],
      "execution_count": 72,
      "outputs": [
        {
          "output_type": "stream",
          "name": "stdout",
          "text": [
            "Model: \"model_3\"\n",
            "_________________________________________________________________\n",
            "Layer (type)                 Output Shape              Param #   \n",
            "=================================================================\n",
            "conv2d_9_input (InputLayer)  [(None, 28, 28, 1)]       0         \n",
            "_________________________________________________________________\n",
            "conv2d_9 (Conv2D)            (None, 26, 26, 32)        320       \n",
            "_________________________________________________________________\n",
            "max_pooling2d_6 (MaxPooling2 (None, 13, 13, 32)        0         \n",
            "_________________________________________________________________\n",
            "conv2d_10 (Conv2D)           (None, 11, 11, 64)        18496     \n",
            "_________________________________________________________________\n",
            "max_pooling2d_7 (MaxPooling2 (None, 5, 5, 64)          0         \n",
            "_________________________________________________________________\n",
            "conv2d_11 (Conv2D)           (None, 3, 3, 64)          36928     \n",
            "=================================================================\n",
            "Total params: 55,744\n",
            "Trainable params: 55,744\n",
            "Non-trainable params: 0\n",
            "_________________________________________________________________\n"
          ]
        }
      ]
    },
    {
      "cell_type": "code",
      "metadata": {
        "id": "gQ1Uj27o5cpR"
      },
      "source": [
        "x = test_images[924]\n",
        "input = tf.expand_dims(x, axis=0)\n",
        "feature_map = feature_map_model.predict(input)"
      ],
      "execution_count": 79,
      "outputs": []
    },
    {
      "cell_type": "code",
      "metadata": {
        "colab": {
          "base_uri": "https://localhost:8080/"
        },
        "id": "X0SgzARxFdxP",
        "outputId": "a6125e0b-501b-44a0-9bf3-04a00ce4119b"
      },
      "source": [
        "feature_map[0]"
      ],
      "execution_count": 95,
      "outputs": [
        {
          "output_type": "execute_result",
          "data": {
            "text/plain": [
              "array([[[[0., 0., 0., ..., 0., 0., 0.],\n",
              "         [0., 0., 0., ..., 0., 0., 0.],\n",
              "         [0., 0., 0., ..., 0., 0., 0.],\n",
              "         ...,\n",
              "         [0., 0., 0., ..., 0., 0., 0.],\n",
              "         [0., 0., 0., ..., 0., 0., 0.],\n",
              "         [0., 0., 0., ..., 0., 0., 0.]],\n",
              "\n",
              "        [[0., 0., 0., ..., 0., 0., 0.],\n",
              "         [0., 0., 0., ..., 0., 0., 0.],\n",
              "         [0., 0., 0., ..., 0., 0., 0.],\n",
              "         ...,\n",
              "         [0., 0., 0., ..., 0., 0., 0.],\n",
              "         [0., 0., 0., ..., 0., 0., 0.],\n",
              "         [0., 0., 0., ..., 0., 0., 0.]],\n",
              "\n",
              "        [[0., 0., 0., ..., 0., 0., 0.],\n",
              "         [0., 0., 0., ..., 0., 0., 0.],\n",
              "         [0., 0., 0., ..., 0., 0., 0.],\n",
              "         ...,\n",
              "         [0., 0., 0., ..., 0., 0., 0.],\n",
              "         [0., 0., 0., ..., 0., 0., 0.],\n",
              "         [0., 0., 0., ..., 0., 0., 0.]],\n",
              "\n",
              "        ...,\n",
              "\n",
              "        [[0., 0., 0., ..., 0., 0., 0.],\n",
              "         [0., 0., 0., ..., 0., 0., 0.],\n",
              "         [0., 0., 0., ..., 0., 0., 0.],\n",
              "         ...,\n",
              "         [0., 0., 0., ..., 0., 0., 0.],\n",
              "         [0., 0., 0., ..., 0., 0., 0.],\n",
              "         [0., 0., 0., ..., 0., 0., 0.]],\n",
              "\n",
              "        [[0., 0., 0., ..., 0., 0., 0.],\n",
              "         [0., 0., 0., ..., 0., 0., 0.],\n",
              "         [0., 0., 0., ..., 0., 0., 0.],\n",
              "         ...,\n",
              "         [0., 0., 0., ..., 0., 0., 0.],\n",
              "         [0., 0., 0., ..., 0., 0., 0.],\n",
              "         [0., 0., 0., ..., 0., 0., 0.]],\n",
              "\n",
              "        [[0., 0., 0., ..., 0., 0., 0.],\n",
              "         [0., 0., 0., ..., 0., 0., 0.],\n",
              "         [0., 0., 0., ..., 0., 0., 0.],\n",
              "         ...,\n",
              "         [0., 0., 0., ..., 0., 0., 0.],\n",
              "         [0., 0., 0., ..., 0., 0., 0.],\n",
              "         [0., 0., 0., ..., 0., 0., 0.]]]], dtype=float32)"
            ]
          },
          "metadata": {},
          "execution_count": 95
        }
      ]
    },
    {
      "cell_type": "code",
      "metadata": {
        "colab": {
          "base_uri": "https://localhost:8080/"
        },
        "id": "FpDd86soFkY-",
        "outputId": "244cc2ba-8114-42c3-ef96-eb912ee29e62"
      },
      "source": [
        "feature_map[1]"
      ],
      "execution_count": 96,
      "outputs": [
        {
          "output_type": "execute_result",
          "data": {
            "text/plain": [
              "array([[[[0.00000000e+00, 0.00000000e+00, 0.00000000e+00, ...,\n",
              "          0.00000000e+00, 0.00000000e+00, 0.00000000e+00],\n",
              "         [2.67960040e-05, 0.00000000e+00, 0.00000000e+00, ...,\n",
              "          1.61716514e-06, 0.00000000e+00, 0.00000000e+00],\n",
              "         [1.16203046e-04, 0.00000000e+00, 0.00000000e+00, ...,\n",
              "          7.43310068e-07, 0.00000000e+00, 0.00000000e+00],\n",
              "         ...,\n",
              "         [8.09021731e-05, 0.00000000e+00, 5.83676592e-05, ...,\n",
              "          0.00000000e+00, 0.00000000e+00, 0.00000000e+00],\n",
              "         [9.51400216e-05, 0.00000000e+00, 5.28281307e-05, ...,\n",
              "          3.43642896e-05, 0.00000000e+00, 0.00000000e+00],\n",
              "         [0.00000000e+00, 0.00000000e+00, 1.59178362e-05, ...,\n",
              "          1.11214213e-04, 0.00000000e+00, 2.62272824e-05]],\n",
              "\n",
              "        [[1.36132876e-04, 4.97503925e-06, 8.27242038e-05, ...,\n",
              "          0.00000000e+00, 0.00000000e+00, 0.00000000e+00],\n",
              "         [1.52717446e-04, 0.00000000e+00, 0.00000000e+00, ...,\n",
              "          0.00000000e+00, 0.00000000e+00, 0.00000000e+00],\n",
              "         [1.97484653e-04, 0.00000000e+00, 0.00000000e+00, ...,\n",
              "          6.46570697e-07, 0.00000000e+00, 0.00000000e+00],\n",
              "         ...,\n",
              "         [1.46759077e-04, 5.62290443e-05, 0.00000000e+00, ...,\n",
              "          0.00000000e+00, 0.00000000e+00, 0.00000000e+00],\n",
              "         [1.88505524e-04, 0.00000000e+00, 0.00000000e+00, ...,\n",
              "          0.00000000e+00, 0.00000000e+00, 7.27960869e-05],\n",
              "         [5.54074868e-05, 1.28640619e-04, 0.00000000e+00, ...,\n",
              "          6.14759338e-05, 0.00000000e+00, 8.97986320e-05]],\n",
              "\n",
              "        [[2.17229273e-04, 0.00000000e+00, 0.00000000e+00, ...,\n",
              "          0.00000000e+00, 0.00000000e+00, 0.00000000e+00],\n",
              "         [1.69547799e-04, 0.00000000e+00, 0.00000000e+00, ...,\n",
              "          3.14121826e-05, 0.00000000e+00, 0.00000000e+00],\n",
              "         [1.70675223e-04, 0.00000000e+00, 0.00000000e+00, ...,\n",
              "          1.56813709e-04, 0.00000000e+00, 1.02357968e-04],\n",
              "         ...,\n",
              "         [3.86541593e-04, 0.00000000e+00, 0.00000000e+00, ...,\n",
              "          0.00000000e+00, 0.00000000e+00, 0.00000000e+00],\n",
              "         [1.87807484e-04, 2.36558975e-04, 0.00000000e+00, ...,\n",
              "          5.78268409e-05, 0.00000000e+00, 4.08409396e-05],\n",
              "         [6.80902813e-05, 3.06019501e-04, 0.00000000e+00, ...,\n",
              "          0.00000000e+00, 0.00000000e+00, 1.89146405e-04]],\n",
              "\n",
              "        ...,\n",
              "\n",
              "        [[5.16647451e-05, 0.00000000e+00, 0.00000000e+00, ...,\n",
              "          1.22877227e-05, 0.00000000e+00, 0.00000000e+00],\n",
              "         [2.59123946e-04, 0.00000000e+00, 0.00000000e+00, ...,\n",
              "          3.99065211e-05, 0.00000000e+00, 0.00000000e+00],\n",
              "         [1.84887700e-04, 0.00000000e+00, 0.00000000e+00, ...,\n",
              "          9.49323439e-05, 0.00000000e+00, 0.00000000e+00],\n",
              "         ...,\n",
              "         [9.30788374e-05, 2.17625755e-04, 1.17406853e-04, ...,\n",
              "          8.60783621e-05, 1.55551279e-05, 1.90766601e-04],\n",
              "         [1.68793689e-04, 1.12190653e-04, 0.00000000e+00, ...,\n",
              "          0.00000000e+00, 0.00000000e+00, 6.86355634e-05],\n",
              "         [0.00000000e+00, 4.55669688e-05, 0.00000000e+00, ...,\n",
              "          0.00000000e+00, 0.00000000e+00, 6.48408895e-05]],\n",
              "\n",
              "        [[4.74489207e-05, 0.00000000e+00, 0.00000000e+00, ...,\n",
              "          2.10780836e-05, 0.00000000e+00, 0.00000000e+00],\n",
              "         [2.05433375e-04, 0.00000000e+00, 0.00000000e+00, ...,\n",
              "          2.02236450e-04, 0.00000000e+00, 0.00000000e+00],\n",
              "         [1.89843573e-04, 0.00000000e+00, 8.01735441e-05, ...,\n",
              "          1.13790025e-04, 2.13744817e-04, 0.00000000e+00],\n",
              "         ...,\n",
              "         [5.77070459e-05, 2.24518008e-04, 0.00000000e+00, ...,\n",
              "          6.20621649e-05, 2.52867885e-05, 2.30865873e-04],\n",
              "         [0.00000000e+00, 1.36384788e-05, 8.91983291e-05, ...,\n",
              "          8.22659931e-05, 0.00000000e+00, 1.42367368e-04],\n",
              "         [8.49284788e-07, 0.00000000e+00, 8.19187044e-05, ...,\n",
              "          9.32287639e-06, 1.44606920e-05, 5.35464605e-05]],\n",
              "\n",
              "        [[0.00000000e+00, 5.95321944e-06, 1.27937301e-06, ...,\n",
              "          7.40775140e-05, 7.60531620e-05, 9.29476573e-06],\n",
              "         [0.00000000e+00, 0.00000000e+00, 2.99818785e-05, ...,\n",
              "          3.46160668e-04, 2.41251255e-04, 0.00000000e+00],\n",
              "         [1.60065829e-04, 0.00000000e+00, 1.23161648e-04, ...,\n",
              "          4.97530913e-04, 4.77474678e-04, 0.00000000e+00],\n",
              "         ...,\n",
              "         [3.49551992e-05, 3.37133970e-05, 1.66897371e-04, ...,\n",
              "          6.54522446e-05, 4.95652876e-06, 1.71005449e-04],\n",
              "         [0.00000000e+00, 0.00000000e+00, 5.21666443e-05, ...,\n",
              "          5.89849788e-06, 1.14373934e-05, 2.90616645e-05],\n",
              "         [0.00000000e+00, 0.00000000e+00, 0.00000000e+00, ...,\n",
              "          0.00000000e+00, 0.00000000e+00, 0.00000000e+00]]]],\n",
              "      dtype=float32)"
            ]
          },
          "metadata": {},
          "execution_count": 96
        }
      ]
    },
    {
      "cell_type": "code",
      "metadata": {
        "colab": {
          "base_uri": "https://localhost:8080/",
          "height": 172
        },
        "id": "eXqZX9iXFqJN",
        "outputId": "f3929767-fc24-463c-d0bc-e676d1c2a91e"
      },
      "source": [
        "feature_map[3] # layer 0,1,2 밖에 존재 안함"
      ],
      "execution_count": 98,
      "outputs": [
        {
          "output_type": "error",
          "ename": "IndexError",
          "evalue": "ignored",
          "traceback": [
            "\u001b[0;31m---------------------------------------------------------------------------\u001b[0m",
            "\u001b[0;31mIndexError\u001b[0m                                Traceback (most recent call last)",
            "\u001b[0;32m<ipython-input-98-a1f5b2874153>\u001b[0m in \u001b[0;36m<module>\u001b[0;34m()\u001b[0m\n\u001b[0;32m----> 1\u001b[0;31m \u001b[0mfeature_map\u001b[0m\u001b[0;34m[\u001b[0m\u001b[0;36m3\u001b[0m\u001b[0;34m]\u001b[0m\u001b[0;34m\u001b[0m\u001b[0;34m\u001b[0m\u001b[0m\n\u001b[0m",
            "\u001b[0;31mIndexError\u001b[0m: list index out of range"
          ]
        }
      ]
    },
    {
      "cell_type": "code",
      "metadata": {
        "colab": {
          "base_uri": "https://localhost:8080/",
          "height": 722
        },
        "id": "ebuQTfW-9yqr",
        "outputId": "7295845b-7769-475b-f0c3-44cf7a9e1065"
      },
      "source": [
        "# https://machinelearningmastery.com/how-to-visualize-filters-and-feature-maps-in-convolutional-neural-networks/ 참고\n",
        "square = 5\n",
        "for fmap in feature_map:\n",
        "\t# plot all 5x5 square\n",
        "\tix = 1\n",
        "\tfor _ in range(square):\n",
        "\t\tfor _ in range(square):\n",
        "\t\t\t# specify subplot and turn of axis\n",
        "\t\t\tax = plt.subplot(square, square, ix)\n",
        "\t\t\tax.set_xticks([])\n",
        "\t\t\tax.set_yticks([])\n",
        "\t\t\t# plot filter channel in grayscale\n",
        "\t\t\tplt.imshow(fmap[0, :, :, ix-1], cmap='gray')\n",
        "\t\t\tix += 1\n",
        "\t# show the figure\n",
        "\tplt.show()"
      ],
      "execution_count": 83,
      "outputs": [
        {
          "output_type": "display_data",
          "data": {
            "image/png": "[encoded data removed]",
            "text/plain": [
              "<Figure size 432x288 with 25 Axes>"
            ]
          },
          "metadata": {}
        },
        {
          "output_type": "display_data",
          "data": {
            "image/png": "[encoded data removed]",
            "text/plain": [
              "<Figure size 432x288 with 25 Axes>"
            ]
          },
          "metadata": {}
        },
        {
          "output_type": "display_data",
          "data": {
            "image/png": "[encoded data removed]",
            "text/plain": [
              "<Figure size 432x288 with 25 Axes>"
            ]
          },
          "metadata": {}
        }
      ]
    }
  ]
}